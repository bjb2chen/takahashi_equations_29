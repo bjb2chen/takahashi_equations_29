{
 "cells": [
  {
   "cell_type": "markdown",
   "metadata": {},
   "source": [
    "# Solving Takahashi Model Equations 7-9 Simultaneously"
   ]
  },
  {
   "cell_type": "markdown",
   "metadata": {},
   "source": [
    "<img src=\"takahashi_eq79.png\" width=\"600\">"
   ]
  },
  {
   "cell_type": "code",
   "execution_count": 1,
   "metadata": {},
   "outputs": [],
   "source": [
    "import numpy as np\n",
    "from scipy.optimize import *"
   ]
  },
  {
   "cell_type": "code",
   "execution_count": 2,
   "metadata": {},
   "outputs": [],
   "source": [
    "C_La_computed = 10\n",
    "C_Nd_computed = 10\n",
    "C_H_i = 1\n",
    "C_Na_i = 5\n",
    "Q = 100\n",
    "\n",
    "def eq_79(mem_guess):\n",
    "\n",
    "    C_La_mem = mem_guess[0]\n",
    "    C_Nd_mem = mem_guess[1]\n",
    "    C_Na_mem = mem_guess[2]\n",
    "    C_H_mem = mem_guess[3]\n",
    "    \n",
    "    solution = np.zeros(4) # 4 equations to solve\n",
    "    \n",
    "    solution[0] = C_La_mem - (1.49 * np.power(C_H_mem, 3) * (C_La_computed/(np.power(C_H_i,3)))**0.8)\n",
    "    solution[1] = C_Nd_mem - (1.15 * np.power(C_H_mem, 3) * (C_Nd_computed/(np.power(C_H_i,3)))**0.8)\n",
    "    solution[2] = C_Na_mem - (0.32 * C_H_mem * (C_Na_i/C_H_i))\n",
    "    solution[3] = Q - (3 * (C_La_mem+C_Nd_mem) + C_Na_mem + C_H_mem)\n",
    "    \n",
    "    return solution"
   ]
  },
  {
   "cell_type": "code",
   "execution_count": 3,
   "metadata": {},
   "outputs": [
    {
     "name": "stdout",
     "output_type": "stream",
     "text": [
      "Concentration of La in membrane =  18.203467544154588\n",
      "Concentration of Nd in membrane =  14.049656158240117\n",
      "Concentration of Na in membrane =  1.9942331648097755\n",
      "Concentration of H in membrane =  1.2463957280061095\n"
     ]
    }
   ],
   "source": [
    "sample_guess = np.array([17.3, 13.4, 7.81, 1.2464])\n",
    "sample_guess2 = np.array([1,1,1,1]) # estimate membrane values\n",
    "\n",
    "eq_79_sol = fsolve(eq_79, sample_guess2)\n",
    "\n",
    "print('Concentration of La in membrane = ', eq_79_sol[0])\n",
    "print('Concentration of Nd in membrane = ', eq_79_sol[1])\n",
    "print('Concentration of Na in membrane = ', eq_79_sol[2])\n",
    "print('Concentration of H in membrane = ', eq_79_sol[3])"
   ]
  }
 ],
 "metadata": {
  "kernelspec": {
   "display_name": "Python 3",
   "language": "python",
   "name": "python3"
  },
  "language_info": {
   "codemirror_mode": {
    "name": "ipython",
    "version": 3
   },
   "file_extension": ".py",
   "mimetype": "text/x-python",
   "name": "python",
   "nbconvert_exporter": "python",
   "pygments_lexer": "ipython3",
   "version": "3.6.5"
  }
 },
 "nbformat": 4,
 "nbformat_minor": 4
}
