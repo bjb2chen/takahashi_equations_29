{
 "cells": [
  {
   "cell_type": "markdown",
   "metadata": {},
   "source": [
    "# Solving Takahashi Model Equations 2-6 Simultaneously"
   ]
  },
  {
   "cell_type": "markdown",
   "metadata": {},
   "source": [
    "Please advise if you have any thoughts."
   ]
  },
  {
   "cell_type": "markdown",
   "metadata": {},
   "source": [
    "<code>From their paper:</code>\n"
   ]
  },
  {
   "cell_type": "markdown",
   "metadata": {},
   "source": [
    "<img src=\"takahashi_26.png\" width=\"700\">"
   ]
  },
  {
   "cell_type": "code",
   "execution_count": 1,
   "metadata": {},
   "outputs": [],
   "source": [
    "import numpy as np\n",
    "from scipy.optimize import *"
   ]
  },
  {
   "cell_type": "code",
   "execution_count": 2,
   "metadata": {},
   "outputs": [],
   "source": [
    "C_H_i = 1\n",
    "\n",
    "def eq_26(guess_26):\n",
    "    \n",
    "    a = guess_26[0] #C_La\n",
    "    b = guess_26[1] #C_LaEDTA\n",
    "    c = guess_26[2] #C_Nd\n",
    "    d = guess_26[3] #C_NdEDTA\n",
    "    e = guess_26[4] #C_EDTA_nc\n",
    "    f = guess_26[5] #C_EDTA\n",
    "    \n",
    "    \n",
    "    K_La_abs = np.power(10, 15.50)\n",
    "    K_Nd_abs = np.power(10, 16.61)\n",
    "    \n",
    "    k1 = np.power(10, -2.00)\n",
    "    k2 = np.power(10, -2.67)\n",
    "    k3 = np.power(10, -6.16)\n",
    "    k4 = np.power(10, -10.26)\n",
    "    \n",
    "    alpha = (k1*k2*k3*k4)/(k1*k2*k3*k4 + \\\n",
    "                           k1*k2*k3*1 + \\\n",
    "                           k1*k2*np.power(C_H_i, 2) + \\\n",
    "                           k1*np.power(C_H_i, 3) + \\\n",
    "                           np.power(C_H_i, 4))\n",
    "    \n",
    "    solution = np.zeros(6)\n",
    "    \n",
    "    solution[0] = a - (b/(K_La_abs*f))\n",
    "    solution[1] = c - (d/(K_Nd_abs*f))\n",
    "    solution[2] = 10 - (a + b)\n",
    "    solution[3] = 10 - (c + d)\n",
    "    solution[4] = 5 - ((b + d) + e)\n",
    "    solution[5] = f - (alpha*e)\n",
    "    \n",
    "    return solution"
   ]
  },
  {
   "cell_type": "code",
   "execution_count": 3,
   "metadata": {},
   "outputs": [
    {
     "name": "stdout",
     "output_type": "stream",
     "text": [
      "Concentration of La ion = 7.448400340948069e-09\n",
      "Concentration of LaEDTA = 9.999999992569048\n",
      "Concentration of Nd ion = -2.1815882433884326e-12\n",
      "Concentration of NdEDTA ion = 10.000000000019634\n",
      "Concentration of EDTA non-complex = -14.999999992584323\n",
      "Concentration of EDTA ion = -2.1811441541785825e-12\n"
     ]
    },
    {
     "name": "stderr",
     "output_type": "stream",
     "text": [
      "/Library/Frameworks/Python.framework/Versions/3.6/lib/python3.6/site-packages/scipy/optimize/minpack.py:175: RuntimeWarning: The iteration is not making good progress, as measured by the \n",
      "  improvement from the last ten iterations.\n",
      "  warnings.warn(msg, RuntimeWarning)\n"
     ]
    }
   ],
   "source": [
    "guess1 = np.array([1,1,1,1,1,1])\n",
    "\n",
    "eq_26_sol = fsolve(eq_26, guess1)\n",
    "print('Concentration of La ion =', eq_26_sol[0])\n",
    "print('Concentration of LaEDTA =', eq_26_sol[1])\n",
    "print('Concentration of Nd ion =', eq_26_sol[2])\n",
    "print('Concentration of NdEDTA ion =', eq_26_sol[3])\n",
    "print('Concentration of EDTA non-complex =', eq_26_sol[4])\n",
    "print('Concentration of EDTA ion =', eq_26_sol[5])"
   ]
  },
  {
   "cell_type": "code",
   "execution_count": 20,
   "metadata": {},
   "outputs": [],
   "source": [
    "C_H_i = 1\n",
    "C_La_i = 10\n",
    "C_Nd_i = 10\n",
    "C_Na_i = 5\n",
    "\n",
    "def three_eqns(guess_26):\n",
    "    \n",
    "    C_LaEDTA = guess_26[0]\n",
    "    C_NdEDTA = guess_26[1]\n",
    "    C_EDTA_nc = guess_26[2]\n",
    "    \n",
    "    K_La_abs = np.power(10, 15.50)\n",
    "    K_Nd_abs = np.power(10, 16.61)\n",
    "    \n",
    "    k1 = np.power(10, -2.00)\n",
    "    k2 = np.power(10, -2.67)\n",
    "    k3 = np.power(10, -6.16)\n",
    "    k4 = np.power(10, -10.26)\n",
    "    \n",
    "    alpha = (k1*k2*k3*k4)/(k1*k2*k3*k4 + \\\n",
    "                           k1*k2*k3*C_H_i + \\\n",
    "                           k1*k2*np.power(C_H_i, 2) + \\\n",
    "                           k1*np.power(C_H_i, 3) + \\\n",
    "                           np.power(C_H_i, 4))\n",
    "    \n",
    "    solution = np.zeros(3)\n",
    "    \n",
    "    solution[0] = C_La_i - (C_LaEDTA / (K_La_abs*alpha*C_EDTA_nc) + C_LaEDTA)\n",
    "    solution[1] = C_Nd_i - (C_NdEDTA / (K_Nd_abs*alpha*C_EDTA_nc) + C_NdEDTA)\n",
    "    solution[2] = C_Na_i - (C_LaEDTA + C_NdEDTA + C_EDTA_nc)\n",
    "\n",
    "    return solution"
   ]
  },
  {
   "cell_type": "code",
   "execution_count": 21,
   "metadata": {},
   "outputs": [
    {
     "name": "stdout",
     "output_type": "stream",
     "text": [
      "Concentration of LaEDTA = 0.00012719807242099837\n",
      "Concentration of NdEDTA ion = 0.0016383809679138025\n",
      "Concentration of EDTA non-complex = 4.998234420959665\n"
     ]
    }
   ],
   "source": [
    "guess2 = np.array([1,1,1])\n",
    "\n",
    "te_sol = fsolve(three_eqns, guess2)\n",
    "print('Concentration of LaEDTA =', te_sol[0])\n",
    "print('Concentration of NdEDTA ion =', te_sol[1])\n",
    "print('Concentration of EDTA non-complex =', te_sol[2])"
   ]
  }
 ],
 "metadata": {
  "kernelspec": {
   "display_name": "Python 3",
   "language": "python",
   "name": "python3"
  },
  "language_info": {
   "codemirror_mode": {
    "name": "ipython",
    "version": 3
   },
   "file_extension": ".py",
   "mimetype": "text/x-python",
   "name": "python",
   "nbconvert_exporter": "python",
   "pygments_lexer": "ipython3",
   "version": "3.6.5"
  }
 },
 "nbformat": 4,
 "nbformat_minor": 4
}
